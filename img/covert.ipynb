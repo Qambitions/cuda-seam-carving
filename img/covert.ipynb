{
 "cells": [
  {
   "cell_type": "code",
   "execution_count": 4,
   "metadata": {},
   "outputs": [],
   "source": [
    "\n",
    "from PIL import Image\n",
    "from numpy import asarray\n",
    "img = Image.open('256.jpg')"
   ]
  },
  {
   "cell_type": "code",
   "execution_count": 5,
   "metadata": {},
   "outputs": [],
   "source": [
    "data = asarray(img)"
   ]
  },
  {
   "cell_type": "code",
   "execution_count": 6,
   "metadata": {},
   "outputs": [
    {
     "data": {
      "text/plain": [
       "array([[[ 55,  87, 112],\n",
       "        [ 56,  88, 113],\n",
       "        [ 56,  87, 115],\n",
       "        ...,\n",
       "        [ 63, 131, 170],\n",
       "        [ 62, 129, 171],\n",
       "        [ 61, 130, 171]],\n",
       "\n",
       "       [[ 58,  90, 115],\n",
       "        [ 57,  89, 114],\n",
       "        [ 56,  87, 115],\n",
       "        ...,\n",
       "        [ 64, 133, 174],\n",
       "        [ 65, 134, 175],\n",
       "        [ 65, 134, 176]],\n",
       "\n",
       "       [[ 57,  88, 116],\n",
       "        [ 57,  88, 116],\n",
       "        [ 56,  87, 115],\n",
       "        ...,\n",
       "        [ 65, 136, 178],\n",
       "        [ 67, 138, 180],\n",
       "        [ 69, 140, 182]],\n",
       "\n",
       "       ...,\n",
       "\n",
       "       [[ 57,  99, 137],\n",
       "        [ 60, 104, 143],\n",
       "        [ 55, 100, 141],\n",
       "        ...,\n",
       "        [138, 157, 187],\n",
       "        [140, 159, 189],\n",
       "        [144, 163, 193]],\n",
       "\n",
       "       [[ 29,  78, 119],\n",
       "        [ 30,  79, 120],\n",
       "        [ 25,  78, 120],\n",
       "        ...,\n",
       "        [131, 155, 183],\n",
       "        [135, 159, 187],\n",
       "        [143, 167, 195]],\n",
       "\n",
       "       [[ 35,  88, 130],\n",
       "        [ 30,  84, 128],\n",
       "        [ 26,  83, 128],\n",
       "        ...,\n",
       "        [115, 143, 167],\n",
       "        [120, 148, 172],\n",
       "        [129, 155, 180]]], dtype=uint8)"
      ]
     },
     "execution_count": 6,
     "metadata": {},
     "output_type": "execute_result"
    }
   ],
   "source": [
    "data"
   ]
  },
  {
   "cell_type": "code",
   "execution_count": 11,
   "metadata": {},
   "outputs": [],
   "source": [
    "with open(\"randomfile.pnm\", \"a\") as o:\n",
    "    o.write('P3 \\n')\n",
    "    o.write(f'{data.shape[1]}\\n {data.shape[0]}\\n 255\\n')\n",
    "    for x in data:\n",
    "        for y in x:\n",
    "            for z in y:\n",
    "                o.write(f\"{z}\\n\")"
   ]
  }
 ],
 "metadata": {
  "kernelspec": {
   "display_name": "Python 3",
   "language": "python",
   "name": "python3"
  },
  "language_info": {
   "codemirror_mode": {
    "name": "ipython",
    "version": 3
   },
   "file_extension": ".py",
   "mimetype": "text/x-python",
   "name": "python",
   "nbconvert_exporter": "python",
   "pygments_lexer": "ipython3",
   "version": "3.7.9"
  },
  "orig_nbformat": 4,
  "vscode": {
   "interpreter": {
    "hash": "fdb543c4eaccb2c43ef1f99da41737654f0c8d7aa960b0cd65bcf594bfbe5a9e"
   }
  }
 },
 "nbformat": 4,
 "nbformat_minor": 2
}
